{
  "cells": [
    {
      "cell_type": "markdown",
      "metadata": {
        "id": "CzLxdpgfJwb9"
      },
      "source": [
        "Install libraries"
      ]
    },
    {
      "cell_type": "code",
      "execution_count": null,
      "metadata": {
        "id": "EsT46iluJWh_"
      },
      "outputs": [],
      "source": [
        "!pip install open_clip_torch transformers\n"
      ]
    },
    {
      "cell_type": "markdown",
      "metadata": {
        "id": "QMMoLRp0KCJL"
      },
      "source": [
        "Mount and access drive"
      ]
    },
    {
      "cell_type": "code",
      "execution_count": null,
      "metadata": {
        "id": "NZW604lPKjJi"
      },
      "outputs": [],
      "source": [
        "from google.colab import drive\n",
        "drive.mount('/content/drive')\n"
      ]
    },
    {
      "cell_type": "code",
      "execution_count": null,
      "metadata": {
        "id": "nnPP_ANuKngp"
      },
      "outputs": [],
      "source": [
        "import os\n",
        "\n",
        "folder_path = '/content/drive/MyDrive/NUS Summer 2023/ModelOutputs'\n",
        "\n",
        "images = []\n",
        "\n",
        "# List all files in the folder\n",
        "files = os.listdir(folder_path)\n",
        "\n",
        "# Filter image files\n",
        "image_files = [file for file in files if file.endswith(('.jpg', '.jpeg', '.png', '.gif', '.bmp'))]\n",
        "\n",
        "for image_file in image_files:\n",
        "  images.append([image_file, os.path.join(folder_path, image_file)])\n",
        "\n",
        "print(images)\n"
      ]
    },
    {
      "cell_type": "code",
      "execution_count": null,
      "metadata": {
        "id": "nEH7jGP1JaCZ"
      },
      "outputs": [],
      "source": [
        "import open_clip\n",
        "import torch\n",
        "#from open_clip import tokenizer\n",
        "\n",
        "model, _, transform = open_clip.create_model_and_transforms(\n",
        "  model_name=\"coca_ViT-L-14\",\n",
        "  pretrained=\"mscoco_finetuned_laion2B-s13B-b90k\"\n",
        ")\n",
        "\n",
        "model.cuda().eval()\n",
        "tokenizer = open_clip.get_tokenizer('coca_ViT-L-14')\n",
        "\n"
      ]
    },
    {
      "cell_type": "markdown",
      "metadata": {
        "id": "hBtOZFV7Sah_"
      },
      "source": [
        "Identify prompt"
      ]
    },
    {
      "cell_type": "code",
      "execution_count": 19,
      "metadata": {
        "id": "Mdv-f5ftapPb"
      },
      "outputs": [],
      "source": [
        "from PIL import Image\n",
        "\n",
        "loaded_images = []\n",
        "file_names = []\n",
        "for [file_name, path_name] in images:\n",
        "  im = Image.open(path_name).convert(\"RGB\")\n",
        "  #im = transform(im).unsqueeze(0).cuda()\n",
        "  loaded_images.append(transform(im))\n",
        "  file_names.append(file_name)\n"
      ]
    },
    {
      "cell_type": "code",
      "execution_count": 7,
      "metadata": {
        "colab": {
          "base_uri": "https://localhost:8080/",
          "height": 144
        },
        "id": "j_B4XwO8SaiA",
        "outputId": "c9ebb79e-a20d-4447-a0d3-5cd8e320705e"
      },
      "outputs": [
        {
          "data": {
            "application/vnd.google.colaboratory.intrinsic+json": {
              "type": "string"
            },
            "text/plain": [
              "'\\nwith torch.no_grad(), torch.cuda.amp.autocast():\\n    text_features = model.encode_text(text.cuda())\\n    for [file_name, path_name] in images:\\n        im = Image.open(path_name).convert(\"RGB\")\\n        im = transform(im).unsqueeze(0).cuda()\\n        image_features = model.encode_image(im)\\n        image_features /= image_features.norm(dim=-1, keepdim=True)\\n        text_features /= text_features.norm(dim=-1, keepdim=True)\\n        similarity = text_features.cpu().numpy() @ image_features.cpu().numpy().T\\n\\n        file_names.append(file_name)\\n\\n'"
            ]
          },
          "execution_count": 7,
          "metadata": {},
          "output_type": "execute_result"
        }
      ],
      "source": [
        "import numpy as np\n",
        "\n",
        "prompts = {\n",
        "    \"Style Consistency\": [\n",
        "        \"Produce an artwork that seamlessly combines elements from the Cubist, Surrealist, and Pop Art movements, showcasing the distinctive characteristics and visual styles of each movement in a unified composition\",\n",
        "        \"Generate a portrait that fuses the unique artistic traits of Vincent van Gogh, Pablo Picasso, and Frida Kahl. The artwork should capture the essence of each artist's style while maintaining coherence and balance\",\n",
        "        \"Create a landscape that transitions smoothly through all four seasons (spring, summer, autumn, and winter). The artwork should depict the changing colors, textures, and atmospheric qualities associated with each season, while maintaining a harmonious overall composition\",\n",
        "        \"Produce an illustration that combines elements from different architectural styles, such as Gothic, Art Deco, and Modernist, in a cohesive and visually engaging manner. The artwork should highlight key architectural features from each style while maintaining a sense of unity\"\n",
        "    ],\n",
        "    \"Perspective\": [\n",
        "        \"Generate an image of a winding road disappearing into the distance, effectively conveying a sense of depth\",\n",
        "        \"Design a composition featuring a person looking out from a high balcony, showcasing accurate foreshortening\",\n",
        "        \"Create an artwork that showcases a bustling market scene with multiple figures, demonstrating proper spatial relationships\",\n",
        "        \"Produce a still life painting of objects placed on a table, capturing the correct proportions and angles from the viewer's perspective\"\n",
        "    ],\n",
        "    \"Creativity\": [\n",
        "        \"Generate an abstract artwork that combines geometric shapes and vibrant colors to evoke a sense of energy\",\n",
        "        \"Design an imaginative composition featuring surreal elements that challenge the viewer's perception\",\n",
        "        \"Create a digital painting that portrays a familiar object or scene in an unexpected and visually compelling way\",\n",
        "        \"Produce an artwork inspired by nature that incorporates organic forms and unconventional textures\"\n",
        "    ],\n",
        "    \"Beauty\": [\n",
        "        \"Design a portrait of a person, capturing their unique features and conveying their inner beauty\",\n",
        "        \"Generate a visually stunning landscape that showcases the grandeur of a mountain range or a serene countryside\",\n",
        "        \"Create an artwork that explores the beauty of light and shadow, emphasizing the interplay of highlights and lowlights\",\n",
        "        \"Produce a still life painting featuring a bouquet of flowers, focusing on capturing their delicate beauty and vibrant colors\"\n",
        "    ],\n",
        "    \"Composition\": [\n",
        "        \"Create a balanced and visually pleasing artwork using the rule of thirds, depicting a serene forest landscape\",\n",
        "        \"Generate a dynamic composition with a clear focal point that leads the viewer through a bustling city street during rush hour\",\n",
        "        \"Design an asymmetrical composition that captures the intensity and movement of a live music performance\",\n",
        "        \"Produce a symmetrical composition featuring a still life arrangement of fruit and a vintage teapot, showcasing harmony and elegance\"\n",
        "    ],\n",
        "    \"Emotional Expression\": [\n",
        "        \"Generate an artwork that conveys a sense of tranquility and calmness, depicting a peaceful lakeside sunset\",\n",
        "        \"Create an abstract composition that evokes feelings of joy, energy, or excitement, inspired by the vibrant colors of a carnival\",\n",
        "        \"Design an artwork that portrays a specific emotion, such as profound sadness, capturing the solitude of a rainy day\",\n",
        "        \"Produce a painting that captures the essence of anticipation and curiosity, depicting a child exploring a mysterious forest\"\n",
        "    ]\n",
        "}\n",
        "cleanPrompts = list(prompts.values())\n",
        "cleanPrompts = [item for sublist in cleanPrompts for item in sublist]\n",
        "\n",
        "text = tokenizer(cleanPrompts)\n",
        "\n",
        "probabilities = []\n",
        "predictions = []\n",
        "\n",
        "image_input = torch.tensor(np.stack(loaded_images)).cuda()\n",
        "text_tokens = tokenizer(cleanPrompts).cuda()\n",
        "\n",
        "with torch.no_grad():\n",
        "  image_features = model.encode_image(image_input).float()\n",
        "  text_features = model.encode_text(text_tokens).float()\n",
        "\n",
        "image_features /= image_features.norm(dim=-1, keepdim=True)\n",
        "text_features /= text_features.norm(dim=-1, keepdim=True)\n",
        "similarity = text_features.cpu().numpy() @ image_features.cpu().numpy().T\n"
      ]
    },
    {
      "cell_type": "code",
      "execution_count": 22,
      "metadata": {
        "colab": {
          "base_uri": "https://localhost:8080/"
        },
        "id": "Bq7HoiPuaS7F",
        "outputId": "de4d82f7-3038-4ebe-936e-e4cc583ff57d"
      },
      "outputs": [
        {
          "name": "stdout",
          "output_type": "stream",
          "text": [
            "[[0.3738452  0.37470043 0.37929142 ... 0.27295932 0.29953417 0.32333595]\n",
            " [0.21157524 0.28261715 0.22001626 ... 0.17199063 0.20059684 0.22808413]\n",
            " [0.24332859 0.20587526 0.24330911 ... 0.26297915 0.245386   0.27642614]\n",
            " ...\n",
            " [0.34998846 0.32330188 0.3435575  ... 0.20139146 0.2508207  0.21528473]\n",
            " [0.26377052 0.28932643 0.27320552 ... 0.21706283 0.24557796 0.24550864]\n",
            " [0.23706752 0.23009327 0.25854674 ... 0.27595165 0.23826617 0.29024276]]\n",
            "(24, 326)\n"
          ]
        }
      ],
      "source": [
        "print(similarity)\n",
        "print(similarity.shape)"
      ]
    },
    {
      "cell_type": "code",
      "execution_count": 65,
      "metadata": {
        "id": "744AL1ekd40o"
      },
      "outputs": [],
      "source": [
        "sorted_labels = []\n",
        "sorted_weights = []\n",
        "sorted_text = []\n",
        "for image in similarity.T:\n",
        "  combined = list(zip(image, cleanPrompts))\n",
        "  ordered = sorted(combined, reverse=True)\n",
        "  sorted_labels.append(ordered)\n",
        "  pure_weights = [num for num, _ in ordered]\n",
        "  pure_text = [text for _, text in ordered]\n",
        "  sorted_weights.append(pure_weights)\n",
        "  sorted_text.append(pure_text)"
      ]
    },
    {
      "cell_type": "code",
      "execution_count": null,
      "metadata": {
        "id": "xbOLCsQVfD-y"
      },
      "outputs": [],
      "source": [
        "print(sorted_labels)\n",
        "print(len(sorted_labels))\n",
        "print(len(sorted_weights))\n"
      ]
    },
    {
      "cell_type": "code",
      "execution_count": 66,
      "metadata": {
        "id": "YKzaq_nWc4Pw"
      },
      "outputs": [],
      "source": [
        "import pandas as pd\n",
        "\n",
        "labelDF = pd.DataFrame({\"File\" : file_names, \"Weights\" : sorted_weights, \"Labels\" : sorted_text})"
      ]
    },
    {
      "cell_type": "code",
      "execution_count": null,
      "metadata": {
        "id": "5qNCtt_1Tivb"
      },
      "outputs": [],
      "source": [
        "from google.colab import files\n",
        "\n",
        "labelDF.to_csv(\"labels.csv\")\n",
        "files.download(\"labels.csv\")"
      ]
    },
    {
      "cell_type": "markdown",
      "metadata": {
        "id": "YCh1-IPjSaiB"
      },
      "source": [
        "Generate original captions"
      ]
    },
    {
      "cell_type": "code",
      "execution_count": null,
      "metadata": {
        "id": "mHiLeGtnJl6o"
      },
      "outputs": [],
      "source": [
        "\n",
        "new_captions = []\n",
        "file_names = []\n",
        "for [file_name, path_name] in images:\n",
        "  im = Image.open(path_name).convert(\"RGB\")\n",
        "  im = transform(im).unsqueeze(0).cuda()\n",
        "  with torch.no_grad(), torch.cuda.amp.autocast():\n",
        "    generated = model.generate(im)\n",
        "  caption = open_clip.decode(generated[0]).split(\"<end_of_text>\")[0].replace(\"<start_of_text>\", \"\")[:-2]\n",
        "  new_captions.append(caption)\n",
        "  file_names.append(file_name)\n",
        "\n",
        "df = pd.DataFrame({\"File\" : file_names, \"Caption\" : new_captions})\n",
        "\n",
        "df.to_csv(\"captions.csv\")\n",
        "files.download('captions.csv')\n",
        "\n",
        "\n",
        "\n"
      ]
    }
  ],
  "metadata": {
    "accelerator": "GPU",
    "colab": {
      "gpuType": "T4",
      "provenance": []
    },
    "kernelspec": {
      "display_name": "Python 3",
      "name": "python3"
    },
    "language_info": {
      "name": "python"
    }
  },
  "nbformat": 4,
  "nbformat_minor": 0
}
