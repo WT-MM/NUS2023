{
  "cells": [
    {
      "attachments": {},
      "cell_type": "markdown",
      "metadata": {
        "id": "CzLxdpgfJwb9"
      },
      "source": [
        "Install libraries"
      ]
    },
    {
      "cell_type": "code",
      "execution_count": null,
      "metadata": {
        "colab": {
          "base_uri": "https://localhost:8080/"
        },
        "id": "EsT46iluJWh_",
        "outputId": "87d4ad52-4555-4302-873d-c58dfd7ab484"
      },
      "outputs": [],
      "source": [
        "!pip install open_clip_torch transformers\n"
      ]
    },
    {
      "attachments": {},
      "cell_type": "markdown",
      "metadata": {
        "id": "QMMoLRp0KCJL"
      },
      "source": [
        "Mount and access drive"
      ]
    },
    {
      "cell_type": "code",
      "execution_count": null,
      "metadata": {
        "colab": {
          "base_uri": "https://localhost:8080/"
        },
        "id": "NZW604lPKjJi",
        "outputId": "7855754c-38df-4b7a-f70c-d142523606fd"
      },
      "outputs": [],
      "source": [
        "from google.colab import drive\n",
        "drive.mount('/content/drive')\n"
      ]
    },
    {
      "cell_type": "code",
      "execution_count": null,
      "metadata": {
        "colab": {
          "base_uri": "https://localhost:8080/"
        },
        "id": "nnPP_ANuKngp",
        "outputId": "7d50adb9-8146-410a-bcda-a2a88162c27c"
      },
      "outputs": [],
      "source": [
        "import os\n",
        "\n",
        "folder_path = '/content/drive/MyDrive/NUS Summer 2023/ModelOutputs'\n",
        "\n",
        "images = []\n",
        "\n",
        "# List all files in the folder\n",
        "files = os.listdir(folder_path)\n",
        "\n",
        "# Filter image files\n",
        "image_files = [file for file in files if file.endswith(('.jpg', '.jpeg', '.png', '.gif', '.bmp'))]\n",
        "\n",
        "for image_file in image_files:\n",
        "  images.append([image_file, os.path.join(folder_path, image_file)])\n",
        "\n",
        "print(images)\n"
      ]
    },
    {
      "cell_type": "code",
      "execution_count": null,
      "metadata": {
        "colab": {
          "base_uri": "https://localhost:8080/"
        },
        "id": "nEH7jGP1JaCZ",
        "outputId": "a2305a0e-4305-48ae-bd7a-7e7f6e8ac2fa"
      },
      "outputs": [],
      "source": [
        "import open_clip\n",
        "import torch\n",
        "\n",
        "\n",
        "model, _, transform = open_clip.create_model_and_transforms(\n",
        "  model_name=\"coca_ViT-L-14\",\n",
        "  pretrained=\"mscoco_finetuned_laion2B-s13B-b90k\"\n",
        ")\n",
        "\n",
        "model.cuda().eval()\n",
        "\n"
      ]
    },
    {
      "attachments": {},
      "cell_type": "markdown",
      "metadata": {},
      "source": [
        "Identify prompt"
      ]
    },
    {
      "cell_type": "code",
      "execution_count": null,
      "metadata": {},
      "outputs": [],
      "source": [
        "from PIL import Image\n",
        "\n",
        "prompts = {\n",
        "    \"Style Consistency\": [\n",
        "        \"Produce an artwork that seamlessly combines elements from the Cubist, Surrealist, and Pop Art movements, showcasing the distinctive characteristics and visual styles of each movement in a unified composition\",\n",
        "        \"Generate a portrait that fuses the unique artistic traits of Vincent van Gogh, Pablo Picasso, and Frida Kahl. The artwork should capture the essence of each artist's style while maintaining coherence and balance\",\n",
        "        \"Create a landscape that transitions smoothly through all four seasons (spring, summer, autumn, and winter). The artwork should depict the changing colors, textures, and atmospheric qualities associated with each season, while maintaining a harmonious overall composition\",\n",
        "        \"Produce an illustration that combines elements from different architectural styles, such as Gothic, Art Deco, and Modernist, in a cohesive and visually engaging manner. The artwork should highlight key architectural features from each style while maintaining a sense of unity\"\n",
        "    ],\n",
        "    \"Perspective\": [\n",
        "        \"Generate an image of a winding road disappearing into the distance, effectively conveying a sense of depth\",\n",
        "        \"Design a composition featuring a person looking out from a high balcony, showcasing accurate foreshortening\",\n",
        "        \"Create an artwork that showcases a bustling market scene with multiple figures, demonstrating proper spatial relationships\",\n",
        "        \"Produce a still life painting of objects placed on a table, capturing the correct proportions and angles from the viewer's perspective\"\n",
        "    ],\n",
        "    \"Creativity\": [\n",
        "        \"Generate an abstract artwork that combines geometric shapes and vibrant colors to evoke a sense of energy\",\n",
        "        \"Design an imaginative composition featuring surreal elements that challenge the viewer's perception\",\n",
        "        \"Create a digital painting that portrays a familiar object or scene in an unexpected and visually compelling way\",\n",
        "        \"Produce an artwork inspired by nature that incorporates organic forms and unconventional textures\"\n",
        "    ],\n",
        "    \"Beauty\": [\n",
        "        \"Design a portrait of a person, capturing their unique features and conveying their inner beauty\",\n",
        "        \"Generate a visually stunning landscape that showcases the grandeur of a mountain range or a serene countryside\",\n",
        "        \"Create an artwork that explores the beauty of light and shadow, emphasizing the interplay of highlights and lowlights\",\n",
        "        \"Produce a still life painting featuring a bouquet of flowers, focusing on capturing their delicate beauty and vibrant colors\"\n",
        "    ],\n",
        "    \"Composition\": [\n",
        "        \"Create a balanced and visually pleasing artwork using the rule of thirds, depicting a serene forest landscape\",\n",
        "        \"Generate a dynamic composition with a clear focal point that leads the viewer through a bustling city street during rush hour\",\n",
        "        \"Design an asymmetrical composition that captures the intensity and movement of a live music performance\",\n",
        "        \"Produce a symmetrical composition featuring a still life arrangement of fruit and a vintage teapot, showcasing harmony and elegance\"\n",
        "    ],\n",
        "    \"Emotional Expression\": [\n",
        "        \"Generate an artwork that conveys a sense of tranquility and calmness, depicting a peaceful lakeside sunset\",\n",
        "        \"Create an abstract composition that evokes feelings of joy, energy, or excitement, inspired by the vibrant colors of a carnival\",\n",
        "        \"Design an artwork that portrays a specific emotion, such as profound sadness, capturing the solitude of a rainy day\",\n",
        "        \"Produce a painting that captures the essence of anticipation and curiosity, depicting a child exploring a mysterious forest\"\n",
        "    ]\n",
        "}\n",
        "\n",
        "tokenizer = open_clip.get_tokenizer('coca_ViT-L-14')\n",
        "text = tokenizer([prompt for prompt in prompts.keys()])\n",
        "\n",
        "probabilities = []\n",
        "predictions = []\n",
        "file_names  = []\n",
        "\n",
        "with torch.no_grad(), torch.cuda.amp.autocast():\n",
        "    text_features = model.encode_text(text.cuda())\n",
        "    for [file_name, path_name] in images:\n",
        "        im = Image.open(path_name).convert(\"RGB\")\n",
        "        im = transform(im).unsqueeze(0).cuda()\n",
        "        image_features = model.encode_image(im)\n",
        "        image_features /= image_features.norm(dim=-1, keepdim=True)\n",
        "        text_features /= text_features.norm(dim=-1, keepdim=True)\n",
        "\n",
        "        text_probs = (100.0 * image_features @ text_features.T).softmax(dim=-1)\n",
        "        probabilities.append(text_probs)\n",
        "        predictions.append(text_probs.argmax(dim=-1))\n",
        "        file_names.append(file_name)\n"
      ]
    },
    {
      "attachments": {},
      "cell_type": "markdown",
      "metadata": {},
      "source": [
        "Generate original captions"
      ]
    },
    {
      "cell_type": "code",
      "execution_count": null,
      "metadata": {
        "id": "mHiLeGtnJl6o"
      },
      "outputs": [],
      "source": [
        "from google.colab import files\n",
        "\n",
        "new_captions = []\n",
        "file_names = []\n",
        "for [file_name, path_name] in images:\n",
        "  im = Image.open(path_name).convert(\"RGB\")\n",
        "  im = transform(im).unsqueeze(0).cuda()\n",
        "  with torch.no_grad(), torch.cuda.amp.autocast():\n",
        "    generated = model.generate(im)\n",
        "  caption = open_clip.decode(generated[0]).split(\"<end_of_text>\")[0].replace(\"<start_of_text>\", \"\")[:-2]\n",
        "  new_captions.append(caption)\n",
        "  file_names.append(file_name)\n",
        "\n",
        "import pandas as pd\n",
        "\n",
        "df = pd.DataFrame({\"File\" : file_names, \"Caption\" : new_captions})\n",
        "\n",
        "df.to_csv(\"captions.csv\")\n",
        "files.download('captions.csv')\n",
        "\n",
        "\n",
        "\n"
      ]
    }
  ],
  "metadata": {
    "accelerator": "GPU",
    "colab": {
      "gpuType": "T4",
      "provenance": []
    },
    "kernelspec": {
      "display_name": "Python 3",
      "name": "python3"
    },
    "language_info": {
      "name": "python"
    }
  },
  "nbformat": 4,
  "nbformat_minor": 0
}
